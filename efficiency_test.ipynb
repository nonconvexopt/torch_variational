{
 "cells": [
  {
   "cell_type": "markdown",
   "metadata": {},
   "source": [
    "<h3>Efficiency tests for various operations used within packages</h3>\n",
    "<h4>\n",
    "Experiment Settings:<br>\n",
    "- Pytorch 1.8.1<br>\n",
    "- CUDA 11.2<br>\n",
    "- Ryzen Threadripper 1950X/DDR4 3000Mhz/Nvidia RTX 3090 24GB\n",
    "</h4>"
   ]
  },
  {
   "cell_type": "code",
   "execution_count": 4,
   "metadata": {},
   "outputs": [],
   "source": [
    "import torch\n",
    "#import flipout\n",
    "\n",
    "device = torch.device('cuda')"
   ]
  },
  {
   "cell_type": "code",
   "execution_count": 65,
   "metadata": {},
   "outputs": [],
   "source": [
    "x = torch.randn([100000], device = device)"
   ]
  },
  {
   "cell_type": "markdown",
   "metadata": {},
   "source": [
    "<h4>Multiplicating Sign Tensor</h4>"
   ]
  },
  {
   "cell_type": "code",
   "execution_count": 66,
   "metadata": {},
   "outputs": [
    {
     "name": "stdout",
     "output_type": "stream",
     "text": [
      "32.8 µs ± 80.7 ns per loop (mean ± std. dev. of 30 runs, 10000 loops each)\n"
     ]
    }
   ],
   "source": [
    "%%timeit -r 30\n",
    "x.mul(torch.empty(x.shape, device = x.device).uniform_(-1,1).sign())"
   ]
  },
  {
   "cell_type": "code",
   "execution_count": 67,
   "metadata": {},
   "outputs": [
    {
     "name": "stdout",
     "output_type": "stream",
     "text": [
      "34.8 µs ± 1.94 µs per loop (mean ± std. dev. of 30 runs, 10000 loops each)\n"
     ]
    }
   ],
   "source": [
    "%%timeit -r 30\n",
    "x.mul(torch.empty(x.shape, device = x.device, dtype = torch.float16).uniform_(-1,1).sign())"
   ]
  },
  {
   "cell_type": "code",
   "execution_count": 68,
   "metadata": {},
   "outputs": [
    {
     "name": "stdout",
     "output_type": "stream",
     "text": [
      "47 µs ± 964 ns per loop (mean ± std. dev. of 30 runs, 10000 loops each)\n"
     ]
    }
   ],
   "source": [
    "%%timeit -r 30\n",
    "x.mul(torch.empty(x.shape, device = x.device, dtype = torch.float16).uniform_(-1,1).float().sign())"
   ]
  },
  {
   "cell_type": "code",
   "execution_count": 69,
   "metadata": {},
   "outputs": [
    {
     "name": "stdout",
     "output_type": "stream",
     "text": [
      "45.5 µs ± 134 ns per loop (mean ± std. dev. of 30 runs, 10000 loops each)\n"
     ]
    }
   ],
   "source": [
    "%%timeit -r 30\n",
    "x.mul(torch.rand(x.shape, device = x.device).sub(0.5).sign())"
   ]
  },
  {
   "cell_type": "code",
   "execution_count": 70,
   "metadata": {},
   "outputs": [
    {
     "name": "stdout",
     "output_type": "stream",
     "text": [
      "46.9 µs ± 2.28 µs per loop (mean ± std. dev. of 30 runs, 10000 loops each)\n"
     ]
    }
   ],
   "source": [
    "%%timeit -r 30\n",
    "x.mul(torch.rand(x.shape, device = x.device, dtype = torch.float16).sub(0.5).sign())"
   ]
  },
  {
   "cell_type": "code",
   "execution_count": 71,
   "metadata": {},
   "outputs": [
    {
     "name": "stdout",
     "output_type": "stream",
     "text": [
      "57.3 µs ± 723 ns per loop (mean ± std. dev. of 30 runs, 10000 loops each)\n"
     ]
    }
   ],
   "source": [
    "%%timeit -r 30\n",
    "x.mul(torch.rand(x.shape, device = x.device, dtype = torch.float16).mul(2).sub(1).sign())"
   ]
  },
  {
   "cell_type": "code",
   "execution_count": 72,
   "metadata": {},
   "outputs": [
    {
     "name": "stdout",
     "output_type": "stream",
     "text": [
      "44.9 µs ± 699 ns per loop (mean ± std. dev. of 30 runs, 10000 loops each)\n"
     ]
    }
   ],
   "source": [
    "%%timeit -r 30\n",
    "x - x.mul(torch.randint(-1, 0, x.shape, device = x.device, dtype = torch.int8)).mul(2)"
   ]
  },
  {
   "cell_type": "code",
   "execution_count": 73,
   "metadata": {},
   "outputs": [
    {
     "name": "stdout",
     "output_type": "stream",
     "text": [
      "47.2 µs ± 53.1 ns per loop (mean ± std. dev. of 30 runs, 10000 loops each)\n"
     ]
    }
   ],
   "source": [
    "%%timeit -r 30\n",
    "x - x.mul(torch.randint(-1, 0, x.shape, device = x.device)).mul(2)"
   ]
  },
  {
   "cell_type": "code",
   "execution_count": null,
   "metadata": {},
   "outputs": [],
   "source": []
  }
 ],
 "metadata": {
  "kernelspec": {
   "display_name": "Python 3",
   "language": "python",
   "name": "python3"
  },
  "language_info": {
   "codemirror_mode": {
    "name": "ipython",
    "version": 3
   },
   "file_extension": ".py",
   "mimetype": "text/x-python",
   "name": "python",
   "nbconvert_exporter": "python",
   "pygments_lexer": "ipython3",
   "version": "3.7.9"
  }
 },
 "nbformat": 4,
 "nbformat_minor": 4
}
