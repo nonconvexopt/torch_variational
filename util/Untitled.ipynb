{
 "cells": [
  {
   "cell_type": "code",
   "execution_count": null,
   "id": "69b41159-d31f-4228-9f29-40ac6698fd2f",
   "metadata": {},
   "outputs": [],
   "source": [
    "import torch\n",
    "import torch.nn as nn\n",
    "import torch.nn.functional as F\n",
    "\n",
    "class kernel(nn.Module):\n",
    "    def __init__(self, in_features: int, out_features: int = 1):\n",
    "        super(Kernel, self).__init__()\n",
    "        self.in_features = in_features\n",
    "        self.out_features = out_features\n",
    "        self.KHP = nn.ModuleDict({})\n",
    "        \n",
    "    def dist(self, x, y = None) -> torch.Tensor:\n",
    "        if y is None:\n",
    "            y = x\n",
    "            \n",
    "        \n",
    "class RBF(Kernel):\n",
    "    def __init__(self, **kwargs):\n",
    "        super(RBF, self).__init__()\n",
    "        \n",
    "    \n",
    "    \n",
    "class Matern(kernel):\n",
    "    def __init__(self, nu: int = 2.5, **kwargs):\n",
    "        super(Matern, self).__init__()\n",
    "        "
   ]
  }
 ],
 "metadata": {
  "kernelspec": {
   "display_name": "Python 3 (ipykernel)",
   "language": "python",
   "name": "python3"
  },
  "language_info": {
   "codemirror_mode": {
    "name": "ipython",
    "version": 3
   },
   "file_extension": ".py",
   "mimetype": "text/x-python",
   "name": "python",
   "nbconvert_exporter": "python",
   "pygments_lexer": "ipython3",
   "version": "3.9.7"
  },
  "widgets": {
   "application/vnd.jupyter.widget-state+json": {
    "state": {},
    "version_major": 2,
    "version_minor": 0
   }
  }
 },
 "nbformat": 4,
 "nbformat_minor": 5
}
